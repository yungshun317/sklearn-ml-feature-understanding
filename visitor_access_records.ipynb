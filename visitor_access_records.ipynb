{
 "cells": [
  {
   "cell_type": "code",
   "execution_count": 1,
   "id": "470c3c7d",
   "metadata": {},
   "outputs": [],
   "source": [
    "import numpy as np\n",
    "import pandas as pd\n",
    "import matplotlib.pyplot as plt\n",
    "import seaborn as sns\n",
    "pd.set_option('display.max_rows', 500)\n",
    "pd.set_option('display.show_dimensions', True)\n",
    "%matplotlib inline\n",
    "plt.style.use('fivethirtyeight')"
   ]
  },
  {
   "cell_type": "markdown",
   "id": "4a68c9ce",
   "metadata": {},
   "source": [
    "# Visitor Access Records\n",
    "\n",
    "As part of President Obama's commitment to government transparency, we are providing records of White House visitors on an ongoing basis online. In December 2009 we began posting all White House visitor records for the period from September 15th onwards under the terms of our voluntary disclosure policy. In addition, as part of our new policy, we post records dating from January 20th that are specifically requested on an ongoing basis. For more information, read the White House blog post announcing the new policy."
   ]
  },
  {
   "cell_type": "code",
   "execution_count": 2,
   "id": "06daedbf",
   "metadata": {},
   "outputs": [],
   "source": [
    "# Load in the data set\n",
    "whitehouse = pd.read_csv('/home/yungshun/workspace/py/sklearn-ml-feature-understanding/datasets/whitehouse_waves-2016_12.csv', encoding=\"ISO-8859-1\")"
   ]
  },
  {
   "cell_type": "code",
   "execution_count": 3,
   "id": "371e3be7",
   "metadata": {},
   "outputs": [
    {
     "data": {
      "text/html": [
       "<div>\n",
       "<style scoped>\n",
       "    .dataframe tbody tr th:only-of-type {\n",
       "        vertical-align: middle;\n",
       "    }\n",
       "\n",
       "    .dataframe tbody tr th {\n",
       "        vertical-align: top;\n",
       "    }\n",
       "\n",
       "    .dataframe thead th {\n",
       "        text-align: right;\n",
       "    }\n",
       "</style>\n",
       "<table border=\"1\" class=\"dataframe\">\n",
       "  <thead>\n",
       "    <tr style=\"text-align: right;\">\n",
       "      <th></th>\n",
       "      <th>NAMELAST</th>\n",
       "      <th>NAMEFIRST</th>\n",
       "      <th>NAMEMID</th>\n",
       "      <th>UIN</th>\n",
       "      <th>BDGNBR</th>\n",
       "      <th>ACCESS_TYPE</th>\n",
       "      <th>TOA</th>\n",
       "      <th>POA</th>\n",
       "      <th>TOD</th>\n",
       "      <th>POD</th>\n",
       "      <th>...</th>\n",
       "      <th>TERMINAL_SUFFIX</th>\n",
       "      <th>visitee_namelast</th>\n",
       "      <th>visitee_namefirst</th>\n",
       "      <th>MEETING_LOC</th>\n",
       "      <th>MEETING_ROOM</th>\n",
       "      <th>CALLER_NAME_LAST</th>\n",
       "      <th>CALLER_NAME_FIRST</th>\n",
       "      <th>CALLER_ROOM</th>\n",
       "      <th>DESCRIPTION</th>\n",
       "      <th>Release_Date</th>\n",
       "    </tr>\n",
       "  </thead>\n",
       "  <tbody>\n",
       "    <tr>\n",
       "      <th>0</th>\n",
       "      <td>TAJOURIBESSASSI</td>\n",
       "      <td>HANENE</td>\n",
       "      <td>NaN</td>\n",
       "      <td>U22101</td>\n",
       "      <td>NaN</td>\n",
       "      <td>VA</td>\n",
       "      <td>NaN</td>\n",
       "      <td>NaN</td>\n",
       "      <td>NaN</td>\n",
       "      <td>NaN</td>\n",
       "      <td>...</td>\n",
       "      <td>AR</td>\n",
       "      <td>Pelofsky</td>\n",
       "      <td>Eric</td>\n",
       "      <td>OEOB</td>\n",
       "      <td>226</td>\n",
       "      <td>ROWBERRY</td>\n",
       "      <td>ARIANA</td>\n",
       "      <td>NaN</td>\n",
       "      <td>NaN</td>\n",
       "      <td>1/29/2016</td>\n",
       "    </tr>\n",
       "    <tr>\n",
       "      <th>1</th>\n",
       "      <td>bageant</td>\n",
       "      <td>laura</td>\n",
       "      <td>j</td>\n",
       "      <td>U30528</td>\n",
       "      <td>NaN</td>\n",
       "      <td>VA</td>\n",
       "      <td>NaN</td>\n",
       "      <td>NaN</td>\n",
       "      <td>NaN</td>\n",
       "      <td>NaN</td>\n",
       "      <td>...</td>\n",
       "      <td>WW</td>\n",
       "      <td>Baskerville</td>\n",
       "      <td>Steven</td>\n",
       "      <td>WH</td>\n",
       "      <td>WH Grounds</td>\n",
       "      <td>WARDEN</td>\n",
       "      <td>WILLIAM</td>\n",
       "      <td>NaN</td>\n",
       "      <td>NaN</td>\n",
       "      <td>1/29/2016</td>\n",
       "    </tr>\n",
       "  </tbody>\n",
       "</table>\n",
       "<p>2 rows × 28 columns</p>\n",
       "</div>"
      ],
      "text/plain": [
       "          NAMELAST NAMEFIRST NAMEMID     UIN  BDGNBR ACCESS_TYPE  TOA  POA  \\\n",
       "0  TAJOURIBESSASSI    HANENE     NaN  U22101     NaN          VA  NaN  NaN   \n",
       "1          bageant     laura       j  U30528     NaN          VA  NaN  NaN   \n",
       "\n",
       "   TOD  POD  ... TERMINAL_SUFFIX visitee_namelast visitee_namefirst  \\\n",
       "0  NaN  NaN  ...              AR         Pelofsky              Eric   \n",
       "1  NaN  NaN  ...              WW      Baskerville            Steven   \n",
       "\n",
       "  MEETING_LOC  MEETING_ROOM CALLER_NAME_LAST CALLER_NAME_FIRST CALLER_ROOM  \\\n",
       "0        OEOB           226         ROWBERRY            ARIANA         NaN   \n",
       "1          WH    WH Grounds           WARDEN           WILLIAM         NaN   \n",
       "\n",
       "  DESCRIPTION Release_Date  \n",
       "0         NaN    1/29/2016  \n",
       "1         NaN    1/29/2016  \n",
       "\n",
       "[2 rows x 28 columns]"
      ]
     },
     "execution_count": 3,
     "metadata": {},
     "output_type": "execute_result"
    }
   ],
   "source": [
    "# View the first few rows and the headers\n",
    "whitehouse.head(2)"
   ]
  },
  {
   "cell_type": "code",
   "execution_count": 4,
   "id": "f4317768",
   "metadata": {},
   "outputs": [
    {
     "name": "stdout",
     "output_type": "stream",
     "text": [
      "<class 'pandas.core.frame.DataFrame'>\n",
      "RangeIndex: 970504 entries, 0 to 970503\n",
      "Data columns (total 28 columns):\n",
      " #   Column             Non-Null Count   Dtype  \n",
      "---  ------             --------------   -----  \n",
      " 0   NAMELAST           970494 non-null  object \n",
      " 1   NAMEFIRST          970497 non-null  object \n",
      " 2   NAMEMID            778796 non-null  object \n",
      " 3   UIN                966303 non-null  object \n",
      " 4   BDGNBR             274058 non-null  float64\n",
      " 5   ACCESS_TYPE        966273 non-null  object \n",
      " 6   TOA                274052 non-null  object \n",
      " 7   POA                274043 non-null  object \n",
      " 8   TOD                162480 non-null  object \n",
      " 9   POD                94507 non-null   object \n",
      " 10  APPT_MADE_DATE     966282 non-null  object \n",
      " 11  APPT_START_DATE    970504 non-null  object \n",
      " 12  APPT_END_DATE      970504 non-null  object \n",
      " 13  APPT_CANCEL_DATE   18868 non-null   object \n",
      " 14  Total_People       966273 non-null  float64\n",
      " 15  LAST_UPDATEDBY     965309 non-null  object \n",
      " 16  POST               966273 non-null  object \n",
      " 17  LASTENTRYDATE      966273 non-null  object \n",
      " 18  TERMINAL_SUFFIX    965309 non-null  object \n",
      " 19  visitee_namelast   911249 non-null  object \n",
      " 20  visitee_namefirst  963723 non-null  object \n",
      " 21  MEETING_LOC        967873 non-null  object \n",
      " 22  MEETING_ROOM       966272 non-null  object \n",
      " 23  CALLER_NAME_LAST   966273 non-null  object \n",
      " 24  CALLER_NAME_FIRST  966273 non-null  object \n",
      " 25  CALLER_ROOM        0 non-null       float64\n",
      " 26  DESCRIPTION        609585 non-null  object \n",
      " 27  Release_Date       970504 non-null  object \n",
      "dtypes: float64(3), object(25)\n",
      "memory usage: 207.3+ MB\n"
     ]
    }
   ],
   "source": [
    "# Get a sense of how many rows of data there are, if there are any missing values, and what data type each column has\n",
    "whitehouse.info()"
   ]
  },
  {
   "cell_type": "code",
   "execution_count": 5,
   "id": "411e0ab6",
   "metadata": {},
   "outputs": [
    {
     "data": {
      "text/plain": [
       "NAMELAST                 10\n",
       "NAMEFIRST                 7\n",
       "NAMEMID              191708\n",
       "UIN                    4201\n",
       "BDGNBR               696446\n",
       "ACCESS_TYPE            4231\n",
       "TOA                  696452\n",
       "POA                  696461\n",
       "TOD                  808024\n",
       "POD                  875997\n",
       "APPT_MADE_DATE         4222\n",
       "APPT_START_DATE           0\n",
       "APPT_END_DATE             0\n",
       "APPT_CANCEL_DATE     951636\n",
       "Total_People           4231\n",
       "LAST_UPDATEDBY         5195\n",
       "POST                   4231\n",
       "LASTENTRYDATE          4231\n",
       "TERMINAL_SUFFIX        5195\n",
       "visitee_namelast      59255\n",
       "visitee_namefirst      6781\n",
       "MEETING_LOC            2631\n",
       "MEETING_ROOM           4232\n",
       "CALLER_NAME_LAST       4231\n",
       "CALLER_NAME_FIRST      4231\n",
       "CALLER_ROOM          970504\n",
       "DESCRIPTION          360919\n",
       "Release_Date              0\n",
       "Length: 28, dtype: int64"
      ]
     },
     "execution_count": 5,
     "metadata": {},
     "output_type": "execute_result"
    }
   ],
   "source": [
    "# Another method to check for missing values\n",
    "whitehouse.isnull().sum()"
   ]
  },
  {
   "cell_type": "code",
   "execution_count": 6,
   "id": "f9189324",
   "metadata": {},
   "outputs": [
    {
     "data": {
      "text/html": [
       "<div>\n",
       "<style scoped>\n",
       "    .dataframe tbody tr th:only-of-type {\n",
       "        vertical-align: middle;\n",
       "    }\n",
       "\n",
       "    .dataframe tbody tr th {\n",
       "        vertical-align: top;\n",
       "    }\n",
       "\n",
       "    .dataframe thead th {\n",
       "        text-align: right;\n",
       "    }\n",
       "</style>\n",
       "<table border=\"1\" class=\"dataframe\">\n",
       "  <thead>\n",
       "    <tr style=\"text-align: right;\">\n",
       "      <th></th>\n",
       "      <th>BDGNBR</th>\n",
       "      <th>Total_People</th>\n",
       "      <th>CALLER_ROOM</th>\n",
       "    </tr>\n",
       "  </thead>\n",
       "  <tbody>\n",
       "    <tr>\n",
       "      <th>count</th>\n",
       "      <td>2.740580e+05</td>\n",
       "      <td>966273.000000</td>\n",
       "      <td>0.0</td>\n",
       "    </tr>\n",
       "    <tr>\n",
       "      <th>mean</th>\n",
       "      <td>9.148413e+04</td>\n",
       "      <td>234.112345</td>\n",
       "      <td>NaN</td>\n",
       "    </tr>\n",
       "    <tr>\n",
       "      <th>std</th>\n",
       "      <td>2.224893e+06</td>\n",
       "      <td>774.324373</td>\n",
       "      <td>NaN</td>\n",
       "    </tr>\n",
       "    <tr>\n",
       "      <th>min</th>\n",
       "      <td>0.000000e+00</td>\n",
       "      <td>0.000000</td>\n",
       "      <td>NaN</td>\n",
       "    </tr>\n",
       "    <tr>\n",
       "      <th>25%</th>\n",
       "      <td>0.000000e+00</td>\n",
       "      <td>5.000000</td>\n",
       "      <td>NaN</td>\n",
       "    </tr>\n",
       "    <tr>\n",
       "      <th>50%</th>\n",
       "      <td>1.040700e+05</td>\n",
       "      <td>24.000000</td>\n",
       "      <td>NaN</td>\n",
       "    </tr>\n",
       "    <tr>\n",
       "      <th>75%</th>\n",
       "      <td>1.142870e+05</td>\n",
       "      <td>248.000000</td>\n",
       "      <td>NaN</td>\n",
       "    </tr>\n",
       "    <tr>\n",
       "      <th>max</th>\n",
       "      <td>4.977812e+08</td>\n",
       "      <td>5676.000000</td>\n",
       "      <td>NaN</td>\n",
       "    </tr>\n",
       "  </tbody>\n",
       "</table>\n",
       "<p>8 rows × 3 columns</p>\n",
       "</div>"
      ],
      "text/plain": [
       "             BDGNBR   Total_People  CALLER_ROOM\n",
       "count  2.740580e+05  966273.000000          0.0\n",
       "mean   9.148413e+04     234.112345          NaN\n",
       "std    2.224893e+06     774.324373          NaN\n",
       "min    0.000000e+00       0.000000          NaN\n",
       "25%    0.000000e+00       5.000000          NaN\n",
       "50%    1.040700e+05      24.000000          NaN\n",
       "75%    1.142870e+05     248.000000          NaN\n",
       "max    4.977812e+08    5676.000000          NaN\n",
       "\n",
       "[8 rows x 3 columns]"
      ]
     },
     "execution_count": 6,
     "metadata": {},
     "output_type": "execute_result"
    }
   ],
   "source": [
    "# Show descriptive stats\n",
    "whitehouse.describe()"
   ]
  },
  {
   "cell_type": "code",
   "execution_count": 7,
   "id": "f3bb0e14",
   "metadata": {},
   "outputs": [],
   "source": [
    "# Here we will remove the columns that contain those missing values for now\n",
    "whitehouse.dropna(axis=1, inplace=True)"
   ]
  },
  {
   "cell_type": "code",
   "execution_count": 8,
   "id": "e46bd351",
   "metadata": {},
   "outputs": [
    {
     "data": {
      "text/html": [
       "<div>\n",
       "<style scoped>\n",
       "    .dataframe tbody tr th:only-of-type {\n",
       "        vertical-align: middle;\n",
       "    }\n",
       "\n",
       "    .dataframe tbody tr th {\n",
       "        vertical-align: top;\n",
       "    }\n",
       "\n",
       "    .dataframe thead th {\n",
       "        text-align: right;\n",
       "    }\n",
       "</style>\n",
       "<table border=\"1\" class=\"dataframe\">\n",
       "  <thead>\n",
       "    <tr style=\"text-align: right;\">\n",
       "      <th></th>\n",
       "      <th>APPT_START_DATE</th>\n",
       "      <th>APPT_END_DATE</th>\n",
       "      <th>Release_Date</th>\n",
       "    </tr>\n",
       "  </thead>\n",
       "  <tbody>\n",
       "    <tr>\n",
       "      <th>0</th>\n",
       "      <td>10/1/2015 3:00</td>\n",
       "      <td>10/1/2015 23:59</td>\n",
       "      <td>1/29/2016</td>\n",
       "    </tr>\n",
       "    <tr>\n",
       "      <th>1</th>\n",
       "      <td>10/1/2015 5:00</td>\n",
       "      <td>9/30/2016 23:59</td>\n",
       "      <td>1/29/2016</td>\n",
       "    </tr>\n",
       "  </tbody>\n",
       "</table>\n",
       "<p>2 rows × 3 columns</p>\n",
       "</div>"
      ],
      "text/plain": [
       "  APPT_START_DATE    APPT_END_DATE Release_Date\n",
       "0  10/1/2015 3:00  10/1/2015 23:59    1/29/2016\n",
       "1  10/1/2015 5:00  9/30/2016 23:59    1/29/2016\n",
       "\n",
       "[2 rows x 3 columns]"
      ]
     },
     "execution_count": 8,
     "metadata": {},
     "output_type": "execute_result"
    }
   ],
   "source": [
    "# View the first few rows and the headers again after removing columns\n",
    "whitehouse.head(2)"
   ]
  },
  {
   "cell_type": "markdown",
   "id": "39907244",
   "metadata": {},
   "source": [
    "### Qualitative data"
   ]
  },
  {
   "cell_type": "code",
   "execution_count": 9,
   "id": "cf72efe7",
   "metadata": {},
   "outputs": [],
   "source": [
    "# Convert APPT_START_DATE and APPT_END_DATE to datetime\n",
    "whitehouse['APPT_START_DATE'] = pd.to_datetime(whitehouse['APPT_START_DATE'])\n",
    "whitehouse['APPT_END_DATE'] = pd.to_datetime(whitehouse['APPT_END_DATE'])"
   ]
  },
  {
   "cell_type": "code",
   "execution_count": 10,
   "id": "43bb8032",
   "metadata": {},
   "outputs": [],
   "source": [
    "# Create a new column, APPT_DURATION \n",
    "whitehouse['APPT_DURATION'] = whitehouse['APPT_END_DATE'] - whitehouse['APPT_START_DATE']"
   ]
  },
  {
   "cell_type": "code",
   "execution_count": 11,
   "id": "35ba2616",
   "metadata": {},
   "outputs": [
    {
     "data": {
      "text/plain": [
       "Timedelta('1 days 03:46:03.909412016')"
      ]
     },
     "execution_count": 11,
     "metadata": {},
     "output_type": "execute_result"
    }
   ],
   "source": [
    "np.mean(whitehouse['APPT_DURATION'])"
   ]
  }
 ],
 "metadata": {
  "kernelspec": {
   "display_name": "Python 3 (ipykernel)",
   "language": "python",
   "name": "python3"
  },
  "language_info": {
   "codemirror_mode": {
    "name": "ipython",
    "version": 3
   },
   "file_extension": ".py",
   "mimetype": "text/x-python",
   "name": "python",
   "nbconvert_exporter": "python",
   "pygments_lexer": "ipython3",
   "version": "3.8.8"
  }
 },
 "nbformat": 4,
 "nbformat_minor": 5
}
